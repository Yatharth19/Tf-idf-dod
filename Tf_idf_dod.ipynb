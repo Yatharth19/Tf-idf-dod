{
  "nbformat": 4,
  "nbformat_minor": 0,
  "metadata": {
    "colab": {
      "name": "Tf-idf_dod.ipynb",
      "provenance": [],
      "authorship_tag": "ABX9TyO+eULUomknp7O/LRo7KtvW",
      "include_colab_link": true
    },
    "kernelspec": {
      "name": "python3",
      "display_name": "Python 3"
    },
    "language_info": {
      "name": "python"
    }
  },
  "cells": [
    {
      "cell_type": "markdown",
      "metadata": {
        "id": "view-in-github",
        "colab_type": "text"
      },
      "source": [
        "<a href=\"https://colab.research.google.com/github/Yatharth19/Tf-idf-dod/blob/main/Tf_idf_dod.ipynb\" target=\"_parent\"><img src=\"https://colab.research.google.com/assets/colab-badge.svg\" alt=\"Open In Colab\"/></a>"
      ]
    },
    {
      "cell_type": "markdown",
      "source": [
        "Importing Dependencies"
      ],
      "metadata": {
        "id": "URFqSB-FF2wu"
      }
    },
    {
      "cell_type": "code",
      "execution_count": null,
      "metadata": {
        "id": "fprPJxWdF06H"
      },
      "outputs": [],
      "source": [
        "\n",
        "import pandas as pd\n",
        "import numpy as np\n",
        "from sklearn.feature_extraction.text import CountVectorizer\n",
        "from nltk.stem.porter import PorterStemmer\n",
        "from sklearn.metrics.pairwise import cosine_similarity\n",
        "from sklearn.feature_extraction.text import TfidfVectorizer\n",
        "import csv"
      ]
    },
    {
      "cell_type": "markdown",
      "source": [
        "Reading the dataset"
      ],
      "metadata": {
        "id": "VTJ9LJdIF8Ol"
      }
    },
    {
      "cell_type": "code",
      "source": [
        "df=pd.read_csv('/content/drive/MyDrive/cancer_clinical_trials_retry2_resized (4).csv')\n"
      ],
      "metadata": {
        "id": "i4dDGCfLF7k-"
      },
      "execution_count": null,
      "outputs": []
    },
    {
      "cell_type": "markdown",
      "source": [
        "Checking the dataframe"
      ],
      "metadata": {
        "id": "2n2pdWfZGAdA"
      }
    },
    {
      "cell_type": "code",
      "source": [
        "print(df.shape)\n",
        "\n",
        "print(df.head(10))"
      ],
      "metadata": {
        "id": "g7aIx6gsGDvi"
      },
      "execution_count": null,
      "outputs": []
    },
    {
      "cell_type": "code",
      "source": [
        "# Checking the outcomes in the dataset\n",
        "\n",
        "df['qualification'].value_counts()"
      ],
      "metadata": {
        "id": "RcnDfytyGLf3"
      },
      "execution_count": null,
      "outputs": []
    },
    {
      "cell_type": "markdown",
      "source": [
        "Checking for NULL values"
      ],
      "metadata": {
        "id": "3Qhs7pLyGWTt"
      }
    },
    {
      "cell_type": "code",
      "source": [
        "df.isnull().sum()"
      ],
      "metadata": {
        "id": "vIv9vs3jGX9j"
      },
      "execution_count": null,
      "outputs": []
    },
    {
      "cell_type": "code",
      "source": [
        "# Checking the number of unique studies conducted in our dataset\n",
        "\n",
        "df['study'].unique().size"
      ],
      "metadata": {
        "id": "svSx31bqHX3M"
      },
      "execution_count": null,
      "outputs": []
    },
    {
      "cell_type": "code",
      "source": [
        "# Function to convert the study conducted phrase to be more meaningful\n",
        "\n",
        "def convert(str):\n",
        "  new_str=str.replace(\"study interventions are \",\"\")\n",
        "  return new_str\n"
      ],
      "metadata": {
        "id": "UDjqpKuuGy6c"
      },
      "execution_count": null,
      "outputs": []
    },
    {
      "cell_type": "markdown",
      "source": [
        "Creating the combination for prediction using both study and condition"
      ],
      "metadata": {
        "id": "12FIvZ8JHCJZ"
      }
    },
    {
      "cell_type": "code",
      "source": [
        "df['study']=(df['study'].apply(convert))\n",
        "#Splitting string into list of words\n",
        "df['study_words']=df['study'].apply(lambda x: x.split())\n",
        "df['condition_words']=df['condition'].apply(lambda x: x.split())\n",
        "\n",
        "df['study'].value_counts()\n",
        "\n",
        "# Converting into lowercase\n",
        "df['study']=df['study'].apply(lambda x:x.lower())\n",
        "\n",
        "df.head()\n",
        "\n",
        "#Removing space from the study name\n",
        "df['study_words']=df['study_words'].apply(lambda x:[i.replace(\" \",\"\") for i in x])\n",
        "df['condition_words']=df['condition_words'].apply(lambda x:[i.replace(\" \",\"\") for i in x])\n",
        "\n",
        "df.head()\n",
        "\n",
        "df['keys']=df['study_words']+df['condition_words']\n",
        "\n",
        "df['keys'].head()\n",
        "\n",
        "#Convert this list into a string\n",
        "df['keys']=df['keys'].apply(lambda x:\" \".join(x))\n",
        "\n",
        "df.head()\n",
        "\n",
        "# Converting the text into lowercase to remove any ambiguity\n",
        "\n",
        "df['keys']=df['keys'].apply(lambda x:x.lower())\n",
        "\n"
      ],
      "metadata": {
        "id": "OTxbbQxRG0xE"
      },
      "execution_count": null,
      "outputs": []
    },
    {
      "cell_type": "markdown",
      "source": [
        "Tf-Idf Vectorizer"
      ],
      "metadata": {
        "id": "twKQBRlOIZs9"
      }
    },
    {
      "cell_type": "code",
      "source": [
        "# Tf-Idf vectorizer\n",
        "\n",
        "test=df['keys']\n",
        "\n",
        "test.shape\n",
        "\n",
        "tfidf=TfidfVectorizer()\n",
        "response=tfidf.fit_transform(test)\n",
        "\n",
        "similarity=cosine_similarity(response)\n",
        "\n",
        "df.head()\n",
        "\n",
        "df['study']=df['study'].apply(lambda x:x.rstrip())"
      ],
      "metadata": {
        "id": "kldTlymHIbi6"
      },
      "execution_count": null,
      "outputs": []
    },
    {
      "cell_type": "markdown",
      "source": [
        "Predictor Function"
      ],
      "metadata": {
        "id": "ng4uUBRbIoHH"
      }
    },
    {
      "cell_type": "code",
      "source": [
        "\n",
        "error=0\n",
        "def predict(str1,str2):\n",
        "  strin=convert(str1).lower()+str2.lower()\n",
        "  str1=convert(str1)\n",
        "  \n",
        "  try:\n",
        "    index=df[df['keys']==strin].index[0]\n",
        "    distance=similarity[index]\n",
        "\n",
        "    dis_list=sorted(list(enumerate(distance)),reverse=True,key=lambda x:x[1])[1:6]\n",
        "    maxval=0\n",
        "    for i in dis_list:\n",
        "      if(df.iloc[i[0]].qualification==1):\n",
        "        maxval=maxval+df.iloc[i[0]].qualification\n",
        "      else:\n",
        "        maxval-=1\n",
        "\n",
        "\n",
        "    \n",
        "    if maxval>0:\n",
        "      # print(\"1\")\n",
        "      current_prediction=1\n",
        "    else:\n",
        "      # print(\"0\")\n",
        "      current_prediction=0\n",
        "    return current_prediction\n",
        "  except:\n",
        "    # print(\"error\")\n",
        "    global error\n",
        "    error+=1\n",
        "\n"
      ],
      "metadata": {
        "id": "vQCEhXLFIpjn"
      },
      "execution_count": null,
      "outputs": []
    },
    {
      "cell_type": "markdown",
      "source": [
        "Checking the model"
      ],
      "metadata": {
        "id": "QgWV92kaJD01"
      }
    },
    {
      "cell_type": "code",
      "source": [
        "study=list(df.study)\n",
        "condition=list(df.condition)\n",
        "qualification=list(df.qualification)\n",
        "correct=0\n",
        "\n",
        "total=[[]]\n",
        "for i in range(0,20000):\n",
        "  str1=study[i]\n",
        "  str2=condition[i]\n",
        "\n",
        "  current_prediction=predict(str1.lower(),str2.lower())\n",
        "  if qualification[i]==current_prediction:\n",
        "    correct=correct+1\n",
        "    \n",
        "print(correct)\n",
        "global error\n",
        "print(\"error=>\",error)\n",
        "print(\"Accuracy is->\",(correct/20000)*100)\n"
      ],
      "metadata": {
        "id": "kq5fW9xRI2Oi"
      },
      "execution_count": null,
      "outputs": []
    }
  ]
}